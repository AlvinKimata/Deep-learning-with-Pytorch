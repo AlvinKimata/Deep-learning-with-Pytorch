{
 "cells": [
  {
   "cell_type": "markdown",
   "id": "48dd4105-295f-4ed9-8008-4dd296dc06c9",
   "metadata": {},
   "source": [
    "## Pooling is performed for 2 reasons:\n",
    "### 1. Making computation more effective as smaller feature maps are easier to deal with.\n",
    "### 2. Making the learning invariant to translations: making the network robust to shifting or movements of images."
   ]
  },
  {
   "cell_type": "markdown",
   "id": "77e38d97-314d-4201-b104-c8d0ef788238",
   "metadata": {},
   "source": [
    "*** \n",
    "### The 2 types of pooling operators are \n",
    "#### 1. MaxPooling. It takes the `maximum value` of a slice of an input.\n",
    "#### 2. AveragePoolng. It takes the `average value` of a slice of an input."
   ]
  },
  {
   "cell_type": "code",
   "execution_count": 1,
   "id": "5f3c1127-2ce1-48b2-b029-13a37f013a1b",
   "metadata": {},
   "outputs": [],
   "source": [
    "import torch\n",
    "import torch.nn\n",
    "import torch.nn.functional as F"
   ]
  },
  {
   "cell_type": "markdown",
   "id": "9db7abcf-00d8-4fcf-b972-21a0203d41e8",
   "metadata": {},
   "source": [
    "## 1. Max-pooling in Pytorch.\n",
    "\n",
    "### OOP style."
   ]
  },
  {
   "cell_type": "code",
   "execution_count": 4,
   "id": "fa6f0901-2f32-413e-b768-8326d820646f",
   "metadata": {},
   "outputs": [
    {
     "name": "stdout",
     "output_type": "stream",
     "text": [
      "tensor([[[[3., 1., 3., 5.],\n",
      "          [6., 0., 7., 9.],\n",
      "          [3., 2., 1., 4.],\n",
      "          [0., 2., 4., 3.]]]])\n",
      "tensor([[[[6., 9.],\n",
      "          [3., 4.]]]])\n"
     ]
    }
   ],
   "source": [
    "inputs = torch.Tensor([[[[3, 1, 3, 5], [6, 0, 7, 9],\n",
    "                      [3, 2, 1, 4], [0, 2, 4, 3]]]])\n",
    "\n",
    "max_pooling = torch.nn.MaxPool2d(2)\n",
    "\n",
    "output_feature = max_pooling(inputs)\n",
    "\n",
    "print(inputs)\n",
    "print(output_feature)"
   ]
  },
  {
   "cell_type": "markdown",
   "id": "19a520d5-6d0e-4574-8720-cf74425becd7",
   "metadata": {},
   "source": [
    "### Functional style."
   ]
  },
  {
   "cell_type": "code",
   "execution_count": 5,
   "id": "7904cc9a-d180-402a-994c-f532c111f22f",
   "metadata": {},
   "outputs": [
    {
     "name": "stdout",
     "output_type": "stream",
     "text": [
      "tensor([[[[6., 9.],\n",
      "          [3., 4.]]]])\n"
     ]
    }
   ],
   "source": [
    "inputs = torch.Tensor([[[[3, 1, 3, 5], [6, 0, 7, 9],\n",
    "                      [3, 2, 1, 4], [0, 2, 4, 3]]]])\n",
    "\n",
    "output_feature_F = F.max_pool2d(inputs, 2)\n",
    "print(output_feature_F)"
   ]
  },
  {
   "cell_type": "markdown",
   "id": "f8f79b40-b66a-4757-9ab2-fbc95fe36da8",
   "metadata": {},
   "source": [
    "## 2. Average pooling."
   ]
  },
  {
   "cell_type": "code",
   "execution_count": 6,
   "id": "c01c0c5d-874d-4477-9e24-33ce6c37c9a3",
   "metadata": {},
   "outputs": [
    {
     "name": "stdout",
     "output_type": "stream",
     "text": [
      "tensor([[[[2.5000, 6.0000],\n",
      "          [1.7500, 3.0000]]]])\n"
     ]
    }
   ],
   "source": [
    "# OOP.\n",
    "inputs = torch.Tensor([[[[3, 1, 3, 5], [6, 0, 7, 9],\n",
    "                      [3, 2, 1, 4], [0, 2, 4, 3]]]])\n",
    "\n",
    "avg_pooling = torch.nn.AvgPool2d(2)\n",
    "output_feature = avg_pooling(inputs)\n",
    "print(output_feature)"
   ]
  },
  {
   "cell_type": "code",
   "execution_count": 7,
   "id": "6b53858c-a72f-419e-ad93-839f1253abf5",
   "metadata": {},
   "outputs": [
    {
     "name": "stdout",
     "output_type": "stream",
     "text": [
      "tensor([[[[2.5000, 6.0000],\n",
      "          [1.7500, 3.0000]]]])\n"
     ]
    }
   ],
   "source": [
    "#Functional style.\n",
    "inputs = torch.Tensor([[[[3, 1, 3, 5], [6, 0, 7, 9],\n",
    "                      [3, 2, 1, 4], [0, 2, 4, 3]]]])\n",
    "\n",
    "output_feature_F = F.avg_pool2d(inputs, 2)\n",
    "print(output_feature_F)"
   ]
  },
  {
   "cell_type": "code",
   "execution_count": null,
   "id": "5bc97a49-fe9f-424b-8429-691b52549507",
   "metadata": {},
   "outputs": [],
   "source": []
  }
 ],
 "metadata": {
  "kernelspec": {
   "display_name": "Python 3 (ipykernel)",
   "language": "python",
   "name": "python3"
  },
  "language_info": {
   "codemirror_mode": {
    "name": "ipython",
    "version": 3
   },
   "file_extension": ".py",
   "mimetype": "text/x-python",
   "name": "python",
   "nbconvert_exporter": "python",
   "pygments_lexer": "ipython3",
   "version": "3.9.12"
  }
 },
 "nbformat": 4,
 "nbformat_minor": 5
}
