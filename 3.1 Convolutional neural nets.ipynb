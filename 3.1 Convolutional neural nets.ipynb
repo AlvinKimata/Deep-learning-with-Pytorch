{
 "cells": [
  {
   "cell_type": "markdown",
   "id": "0653a57d-bc5d-4588-bc40-c17754190ea6",
   "metadata": {},
   "source": [
    "### CNNs implement the following ideas that are not implemented in fully connected neural nets:\n",
    "#### 1. Units are connected with only a few units from the previous layer.\n",
    "#### 2. Units share weights.\n",
    "***"
   ]
  },
  {
   "cell_type": "markdown",
   "id": "1183a75c-6471-4f69-9968-4b1d031a2c64",
   "metadata": {},
   "source": [
    "## There are 2 ways for implementing the convolutional operator:\n",
    "### 1. The functional way `torch.nn.functional`\n",
    "### 2. The OOP way. `torch.nn`"
   ]
  },
  {
   "cell_type": "code",
   "execution_count": 1,
   "id": "bf2abca1-009f-41ac-b3da-d19c3f4dd8dd",
   "metadata": {},
   "outputs": [],
   "source": [
    "import torch\n",
    "import torch.nn\n",
    "import torch.nn.functional as F"
   ]
  },
  {
   "cell_type": "code",
   "execution_count": 2,
   "id": "b2c4fa4c-814a-4ab7-aa21-748f144f5896",
   "metadata": {},
   "outputs": [
    {
     "name": "stdout",
     "output_type": "stream",
     "text": [
      "torch.Size([16, 1, 28, 28])\n"
     ]
    }
   ],
   "source": [
    "## The OOP way.\n",
    "image = torch.rand(16, 3, 32, 32) #A batch of 16 images with 3 color channels and 32 * 32 height and width dimensions.\n",
    "\n",
    "conv_filter = torch.nn.Conv2d(in_channels = 3,\n",
    "                              out_channels = 1,  #The number of filters to apply.\n",
    "                              kernel_size = 5, \n",
    "                              stride = 1, \n",
    "                              padding = 0)\n",
    "\n",
    "output_feature = conv_filter(image)\n",
    "print(output_feature.shape)"
   ]
  },
  {
   "cell_type": "markdown",
   "id": "3223e9d0-bb71-4332-9ce7-4d7f60ac4eca",
   "metadata": {},
   "source": [
    "### After applying convolution operations to our image, the output image has  a batch of 16 images with 1 color channel and 28 * 28 height and width dimensions."
   ]
  },
  {
   "cell_type": "markdown",
   "id": "30cfe5b9-a2de-49a5-8274-0d081999b8b4",
   "metadata": {},
   "source": [
    "## Strides in CNNs are the spatial locations where the convolutuinal filters is applied."
   ]
  },
  {
   "cell_type": "code",
   "execution_count": 3,
   "id": "eca884fa-c1d7-4a3c-a81c-50a8cf76d596",
   "metadata": {},
   "outputs": [
    {
     "name": "stdout",
     "output_type": "stream",
     "text": [
      "torch.Size([16, 1, 28, 28])\n"
     ]
    }
   ],
   "source": [
    "##The functional way.\n",
    "image = torch.rand(16, 3, 32, 32)\n",
    "conv_filter = torch.rand(1, 3, 5, 5)\n",
    "\n",
    "out_feat_F = F.conv2d(image, conv_filter, \n",
    "                      stride = 1, padding = 0)\n",
    "\n",
    "print(out_feat_F.shape)"
   ]
  },
  {
   "cell_type": "markdown",
   "id": "a3731b4a-d2f4-4507-a7f6-c6dff40258d9",
   "metadata": {},
   "source": [
    "## Example 2: the functional way.\n",
    "### Create 6 random filters with shape `(1, 3, 3)` "
   ]
  },
  {
   "cell_type": "code",
   "execution_count": 4,
   "id": "00024771-fee7-4303-ab93-f41a147be431",
   "metadata": {},
   "outputs": [
    {
     "name": "stdout",
     "output_type": "stream",
     "text": [
      "torch.Size([10, 6, 28, 28])\n"
     ]
    }
   ],
   "source": [
    "#Create 10 random images.\n",
    "image = torch.rand(10, 1, 28, 28)\n",
    "\n",
    "#Create 6 filters. With random shapes (1, 3, 3)\n",
    "filters = torch.rand(6, 1, 3, 3)\n",
    "\n",
    "#Convolve the images with the filters.\n",
    "output_feature = F.conv2d(image, filters, \n",
    "                          stride = 1, \n",
    "                          padding = 1)\n",
    "\n",
    "print(output_feature.shape)"
   ]
  },
  {
   "cell_type": "code",
   "execution_count": null,
   "id": "195ee112-70fa-46ab-b617-1032f02d6490",
   "metadata": {},
   "outputs": [],
   "source": []
  }
 ],
 "metadata": {
  "kernelspec": {
   "display_name": "Python 3 (ipykernel)",
   "language": "python",
   "name": "python3"
  },
  "language_info": {
   "codemirror_mode": {
    "name": "ipython",
    "version": 3
   },
   "file_extension": ".py",
   "mimetype": "text/x-python",
   "name": "python",
   "nbconvert_exporter": "python",
   "pygments_lexer": "ipython3",
   "version": "3.9.12"
  }
 },
 "nbformat": 4,
 "nbformat_minor": 5
}
