{
 "cells": [
  {
   "cell_type": "markdown",
   "id": "260332e2-cd94-4b57-90ec-8a2fec00c7a7",
   "metadata": {},
   "source": [
    "### This notebook demonstrates the use of the pytorch 🔥 deep learning library in :\n",
    "#### 1. Creating tensors, comparing and contrasting it with numpy.\n",
    "#### 2. Forward propargation.\n",
    "#### 3. Backpropargation.\n",
    "#### 4. Calculating gradients in Pytorch.\n",
    "#### 5. Creating a neural network in pytorch."
   ]
  },
  {
   "cell_type": "markdown",
   "id": "456e4528-97bd-4fff-a8d9-a5fa50938bf2",
   "metadata": {},
   "source": [
    "## _1. Building blocks for tensors._"
   ]
  },
  {
   "cell_type": "code",
   "execution_count": 2,
   "id": "5999d500-169a-404f-a863-acfc812f5e9a",
   "metadata": {},
   "outputs": [
    {
     "ename": "ModuleNotFoundError",
     "evalue": "No module named 'tensorflow_docs'",
     "output_type": "error",
     "traceback": [
      "\u001b[0;31m---------------------------------------------------------------------------\u001b[0m",
      "\u001b[0;31mModuleNotFoundError\u001b[0m                       Traceback (most recent call last)",
      "Input \u001b[0;32mIn [2]\u001b[0m, in \u001b[0;36m<cell line: 1>\u001b[0;34m()\u001b[0m\n\u001b[0;32m----> 1\u001b[0m \u001b[38;5;28;01mimport\u001b[39;00m \u001b[38;5;21;01mtensorflow_docs\u001b[39;00m \u001b[38;5;28;01mas\u001b[39;00m \u001b[38;5;21;01mdocs\u001b[39;00m\n",
      "\u001b[0;31mModuleNotFoundError\u001b[0m: No module named 'tensorflow_docs'"
     ]
    }
   ],
   "source": [
    "import tensorflow_docs as docs"
   ]
  },
  {
   "cell_type": "code",
   "execution_count": 1,
   "id": "704d027a-3fb8-4c20-9788-2e0e9c673317",
   "metadata": {},
   "outputs": [],
   "source": [
    "import torch\n",
    "import numpy as np"
   ]
  },
  {
   "cell_type": "code",
   "execution_count": 2,
   "id": "643a5d99-8f91-49ce-910e-b3a1ac6b66c7",
   "metadata": {},
   "outputs": [
    {
     "name": "stdout",
     "output_type": "stream",
     "text": [
      "Pytorch tensor: tensor([[2, 3, 5],\n",
      "        [1, 2, 9]])\n",
      "\n",
      " Numpy array: [[2 3 5]\n",
      " [1 2 9]]\n"
     ]
    }
   ],
   "source": [
    "#1. Creating tensors.\n",
    "torch_tensor = torch.tensor([[2, 3, 5], [1, 2, 9]])\n",
    "numpy_array = np.array([[2, 3, 5], [1, 2, 9]])\n",
    "\n",
    "print(f'Pytorch tensor: {torch_tensor}')\n",
    "print(f'\\n Numpy array: {numpy_array}')"
   ]
  },
  {
   "cell_type": "code",
   "execution_count": 3,
   "id": "368d35b5-a464-4f9d-8c1a-1f285a539b89",
   "metadata": {},
   "outputs": [
    {
     "name": "stdout",
     "output_type": "stream",
     "text": [
      "Pytorch random array: tensor([[0.4823, 0.3258],\n",
      "        [0.8642, 0.3672]])\n",
      "\n",
      " Numpy random array: [[-0.27128256 -1.10548425]\n",
      " [-0.57807964 -1.05568425]]\n"
     ]
    }
   ],
   "source": [
    "#2. Random numbers.\n",
    "torch_rand = torch.rand(2, 2)\n",
    "np_random = np.random.randn(2, 2)\n",
    "\n",
    "print(f'Pytorch random array: {torch_rand}')\n",
    "print(f'\\n Numpy random array: {np_random}')"
   ]
  },
  {
   "cell_type": "code",
   "execution_count": 4,
   "id": "bedd6f92-020b-4241-83d5-495b5737c60a",
   "metadata": {},
   "outputs": [
    {
     "data": {
      "text/plain": [
       "(torch.Size([2, 2]), (2, 2))"
      ]
     },
     "execution_count": 4,
     "metadata": {},
     "output_type": "execute_result"
    }
   ],
   "source": [
    "torch_rand.shape, np_random.shape"
   ]
  },
  {
   "cell_type": "code",
   "execution_count": 5,
   "id": "a44ef3bb-ab0d-40ae-bba4-f698f69104f3",
   "metadata": {},
   "outputs": [
    {
     "name": "stdout",
     "output_type": "stream",
     "text": [
      "tensor([[0.7489, 0.4212],\n",
      "        [0.0236, 0.2546]])\n",
      "tensor([[0.4948, 0.9917],\n",
      "        [0.3541, 0.6854]])\n",
      "\n",
      " tensor([[0.5196, 1.0313],\n",
      "        [0.1018, 0.1979]])\n"
     ]
    }
   ],
   "source": [
    "#3. Matrix operations.\n",
    "a = torch.rand((2, 2))\n",
    "b = torch.rand((2, 2))\n",
    "\n",
    "c = torch.matmul(a, b)\n",
    "print(a)\n",
    "print(b)\n",
    "print(f'\\n {c}')"
   ]
  },
  {
   "cell_type": "code",
   "execution_count": 6,
   "id": "90f01b6d-d928-4ee4-a5e2-6337542fed7c",
   "metadata": {},
   "outputs": [
    {
     "name": "stdout",
     "output_type": "stream",
     "text": [
      "[[-0.93882616 -0.88145392]\n",
      " [ 0.42515251  0.73936536]]\n",
      "[[ 1.54847307 -2.40016652]\n",
      " [-0.18283694 -1.28290535]]\n",
      "\n",
      " [[-1.29258469  3.38416106]\n",
      " [ 0.52315391 -1.96897259]]\n"
     ]
    }
   ],
   "source": [
    "a = np.random.randn(2, 2)\n",
    "b = np.random.randn(2, 2)\n",
    "c = np.dot(a, b)\n",
    "\n",
    "print(a)\n",
    "print(b)\n",
    "print(f'\\n {c}')"
   ]
  },
  {
   "cell_type": "code",
   "execution_count": 7,
   "id": "1f9a3ab5-6d5a-4b3c-a244-21413c26c14e",
   "metadata": {},
   "outputs": [
    {
     "name": "stdout",
     "output_type": "stream",
     "text": [
      "tensor([[0., 0.],\n",
      "        [0., 0.]])\n",
      "\n",
      " [[0. 0.]\n",
      " [0. 0.]]\n"
     ]
    }
   ],
   "source": [
    "#4. Zeros matrices.\n",
    "a_torch = torch.zeros(2, 2)\n",
    "a_numpy = np.zeros((2, 2))\n",
    "\n",
    "print(a_torch)\n",
    "print(f'\\n {a_numpy}')"
   ]
  },
  {
   "cell_type": "code",
   "execution_count": 8,
   "id": "e4e380c3-49c9-4dc0-9ce4-1d965e73132f",
   "metadata": {},
   "outputs": [
    {
     "name": "stdout",
     "output_type": "stream",
     "text": [
      "tensor([[1., 1.],\n",
      "        [1., 1.]])\n",
      "\n",
      " [[1. 1.]\n",
      " [1. 1.]]\n"
     ]
    }
   ],
   "source": [
    "#5. Ones matrices.\n",
    "b_torch = torch.ones(2, 2)\n",
    "b_numpy = np.ones((2, 2))\n",
    "\n",
    "print(b_torch)\n",
    "print(f'\\n {b_numpy}')"
   ]
  },
  {
   "cell_type": "code",
   "execution_count": 9,
   "id": "d80f671f-a16e-42a0-998f-44ddaf4b9e19",
   "metadata": {},
   "outputs": [
    {
     "name": "stdout",
     "output_type": "stream",
     "text": [
      "tensor([[1., 0.],\n",
      "        [0., 1.]])\n",
      "\n",
      " [[1. 0.]\n",
      " [0. 1.]]\n"
     ]
    }
   ],
   "source": [
    "#6. Identity matrices.\n",
    "c_torch = torch.eye(2)\n",
    "c_numpy = np.identity(2)\n",
    "\n",
    "print(c_torch)\n",
    "print(f'\\n {c_numpy}')"
   ]
  },
  {
   "cell_type": "code",
   "execution_count": 10,
   "id": "cdfda9e9-6385-4b99-b095-cedddc8e4c85",
   "metadata": {},
   "outputs": [
    {
     "name": "stdout",
     "output_type": "stream",
     "text": [
      "tensor([[1., 0.],\n",
      "        [0., 1.]], dtype=torch.float64)\n",
      "\n",
      " [[-1.29258469  3.38416106]\n",
      " [ 0.52315391 -1.96897259]]\n"
     ]
    }
   ],
   "source": [
    "#7. Pytorch to numpy and vice versa.\n",
    "d_torch = torch.from_numpy(c_numpy)\n",
    "d = c_torch.numpy()\n",
    "\n",
    "print(d_torch)\n",
    "print(f'\\n {c}')"
   ]
  },
  {
   "cell_type": "markdown",
   "id": "25d4e90c-fa11-46f7-9b46-b25f897bcc2a",
   "metadata": {},
   "source": [
    "## _2. Forward ⏩ proparagation._ \n",
    "#### Perform operations given in the computational graph below.👇\n",
    "***"
   ]
  },
  {
   "cell_type": "markdown",
   "id": "bc232573-404a-4029-a808-f686e897b913",
   "metadata": {},
   "source": [
    "![alt text](graph_exercise.jpg 'calculation_graph')"
   ]
  },
  {
   "cell_type": "code",
   "execution_count": 11,
   "id": "fae448d3-e48c-474a-930d-67a2c385288f",
   "metadata": {},
   "outputs": [
    {
     "name": "stdout",
     "output_type": "stream",
     "text": [
      "tensor(124.9481)\n"
     ]
    }
   ],
   "source": [
    "#Initialize tensors x, y and z.\n",
    "x = torch.rand((1000, 1000))\n",
    "y = torch.rand((1000, 1000))\n",
    "z = torch.rand((1000, 1000))\n",
    "\n",
    "#Multiply x with y.\n",
    "q = torch.matmul(x, y)\n",
    "\n",
    "#Multiply element-wise z with q.\n",
    "f = z * q\n",
    "\n",
    "mean_f = torch.mean(f)\n",
    "print(mean_f)"
   ]
  },
  {
   "cell_type": "markdown",
   "id": "ce77f080-4c01-4573-8fda-dd72b3a39ef7",
   "metadata": {},
   "source": [
    "## _3. Backpropagation by auto-differentiation._"
   ]
  },
  {
   "cell_type": "code",
   "execution_count": 12,
   "id": "7462a755-05c4-4196-aef3-342787639918",
   "metadata": {},
   "outputs": [
    {
     "name": "stdout",
     "output_type": "stream",
     "text": [
      "Gradient of z is: 2.0\n",
      "Gradient of y is: -2.0\n",
      "Gradient of x is: -2.0\n"
     ]
    }
   ],
   "source": [
    "x = torch.tensor(-3., requires_grad = True)\n",
    "y = torch.tensor(5., requires_grad = True)\n",
    "z = torch.tensor(-2., requires_grad = True)\n",
    "\n",
    "q = x + y\n",
    "f = q * z\n",
    "\n",
    "# Compute the derivatives\n",
    "f.backward()\n",
    "\n",
    "print(f'Gradient of z is: {z.grad}')\n",
    "print(f'Gradient of y is: {y.grad}')\n",
    "print(f'Gradient of x is: {x.grad}')"
   ]
  },
  {
   "cell_type": "markdown",
   "id": "dbd0be01-fe71-43a3-9ade-21cbaf57459f",
   "metadata": {},
   "source": [
    "## 4. Fully connencted neural nets."
   ]
  },
  {
   "cell_type": "code",
   "execution_count": 14,
   "id": "5d121e75-e760-4023-b2e5-369fea1b3f71",
   "metadata": {},
   "outputs": [
    {
     "name": "stdout",
     "output_type": "stream",
     "text": [
      "tensor([335.3644, 275.4128, 298.5652, 291.5167])\n"
     ]
    }
   ],
   "source": [
    "input_layer = torch.rand(10)\n",
    "\n",
    "w1 = torch.rand(10, 20)\n",
    "w2 = torch.rand(20, 20)\n",
    "w3 = torch.rand(20, 4)\n",
    "\n",
    "h1 = torch.matmul(input_layer, w1)\n",
    "h2 = torch.matmul(h1, w2)\n",
    "\n",
    "output_layer = torch.matmul(h2, w3)\n",
    "print(output_layer)"
   ]
  },
  {
   "cell_type": "code",
   "execution_count": 15,
   "id": "768564e1-715d-48a3-b770-38eaa8c5bd32",
   "metadata": {},
   "outputs": [],
   "source": [
    "#Building a nn in an object-oriented fashion.\n",
    "import torch.nn as nn\n",
    "\n",
    "class Net(nn.Module):\n",
    "    def __init__(self):\n",
    "        super(Net, self).__init__()\n",
    "        self.fc1 = nn.Linear(10, 20) #Fully connected neurons.\n",
    "        self.fc2 = nn.Linear(20, 20)\n",
    "        self.output = nn.Linear(20, 4)\n",
    "        \n",
    "    def forward(self, x):\n",
    "        x = self.fc1(x)\n",
    "        x = self.fc2(x)\n",
    "        x = self.output(x)\n",
    "        return x"
   ]
  },
  {
   "cell_type": "code",
   "execution_count": 16,
   "id": "fd91ef51-07c8-4b3b-a260-c1e2d398c6ee",
   "metadata": {},
   "outputs": [
    {
     "data": {
      "text/plain": [
       "tensor([-0.0886, -0.0558,  0.1110, -0.6304], grad_fn=<AddBackward0>)"
      ]
     },
     "execution_count": 16,
     "metadata": {},
     "output_type": "execute_result"
    }
   ],
   "source": [
    "input_layer = torch.rand(10)\n",
    "net = Net()\n",
    "\n",
    "result = net(input_layer)\n",
    "result"
   ]
  },
  {
   "cell_type": "code",
   "execution_count": null,
   "id": "6e60db41-10aa-4fb0-bd67-79e23e5ffe82",
   "metadata": {},
   "outputs": [],
   "source": []
  }
 ],
 "metadata": {
  "kernelspec": {
   "display_name": "Python 3 (ipykernel)",
   "language": "python",
   "name": "python3"
  },
  "language_info": {
   "codemirror_mode": {
    "name": "ipython",
    "version": 3
   },
   "file_extension": ".py",
   "mimetype": "text/x-python",
   "name": "python",
   "nbconvert_exporter": "python",
   "pygments_lexer": "ipython3",
   "version": "3.9.12"
  }
 },
 "nbformat": 4,
 "nbformat_minor": 5
}
